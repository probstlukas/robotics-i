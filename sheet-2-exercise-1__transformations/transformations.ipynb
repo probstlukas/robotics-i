{
 "cells": [
  {
   "cell_type": "code",
   "execution_count": 1,
   "id": "0ebb8688-c9b1-4208-b5be-f718be7bec34",
   "metadata": {},
   "outputs": [],
   "source": [
    "import os.path\n",
    "\n",
    "import numpy as np\n",
    "import matplotlib.pyplot as plt\n",
    "import shutil\n",
    "\n",
    "from typing import List, Tuple"
   ]
  },
  {
   "cell_type": "code",
   "execution_count": 2,
   "id": "64800526-fb2b-4984-8c50-7db8bedfe1ae",
   "metadata": {},
   "outputs": [],
   "source": [
    "def apply_homogeneous_transformation_matrix_to_vector(homogeneous_matrix: np.ndarray, vector: np.ndarray) -> np.ndarray:\n",
    "    assert homogeneous_matrix.shape == (4, 4)\n",
    "    assert vector.shape == (3, )\n",
    "\n",
    "    extended_vector = np.hstack((vector, np.array([1], dtype=float)))\n",
    "    transformed_extended_vector = homogeneous_matrix @ extended_vector\n",
    "\n",
    "    transformed_vector = transformed_extended_vector[:3]\n",
    "    return transformed_vector\n",
    "\n",
    "\n",
    "def multiply_homogeneous_transformation_matrices(\n",
    "    homogeneous_matrix_1: np.ndarray, homogeneous_matrix_2: np.ndarray\n",
    ") -> np.ndarray:\n",
    "    assert homogeneous_matrix_1.shape == (4, 4)\n",
    "    assert homogeneous_matrix_2.shape == (4, 4)\n",
    "\n",
    "    return homogeneous_matrix_1 @ homogeneous_matrix_2\n",
    "\n",
    "def invert_homogeneous_transformation_matrix(homogeneous_matrix: np.ndarray) -> np.ndarray:\n",
    "    assert homogeneous_matrix.shape == (4, 4)\n",
    "\n",
    "    inverted_homogeneous_matrix = np.identity(4)\n",
    "    inverted_homogeneous_matrix[:3, :3] = homogeneous_matrix[:3, :3].transpose()\n",
    "    inverted_homogeneous_matrix[:3, 3] = -homogeneous_matrix[:3, :3].transpose() @ homogeneous_matrix[:3, 3]\n",
    "\n",
    "    return inverted_homogeneous_matrix"
   ]
  },
  {
   "cell_type": "code",
   "execution_count": 3,
   "id": "60104e8c-6d7b-4deb-8db9-9e0684f71350",
   "metadata": {},
   "outputs": [],
   "source": [
    "def get_plot() -> Tuple[plt.figure, plt.axes]:\n",
    "    fig, ax = plt.subplots()\n",
    "    clear_and_prepare_plot(ax)\n",
    "    return fig, ax\n",
    "\n",
    "\n",
    "def clear_and_prepare_plot(ax) -> None:\n",
    "    ax.cla()\n",
    "    ax.set_aspect('equal', 'box')\n",
    "    ax.set_xlim(-7, 7)\n",
    "    ax.set_ylim(-3.5, 4.5)\n",
    "    ax.grid(True)\n",
    "    ax.set_xlabel('x position')\n",
    "    ax.set_ylabel('y position')\n",
    "\n",
    "\n",
    "def plot_vector(ax: plt.axes, start: np.ndarray, end: np.ndarray, color: str = None, opacity: float = 1) -> None:\n",
    "    assert start.shape == (3, )\n",
    "    assert end.shape == (3, )\n",
    "    ax.plot(\n",
    "        (start[0], end[0]),\n",
    "        (start[1], end[1]),\n",
    "        color=color,\n",
    "        alpha=opacity\n",
    "    )\n",
    "\n",
    "def plot_coordinate_system(ax: plt.axes, pose: np.ndarray) -> None:\n",
    "    # variable names and calculations are optimized for clarity, not for brevity...\n",
    "\n",
    "    local_start_of_base_vectors = np.array([0, 0, 0], dtype=float)\n",
    "    local_end_of_x_unit_vector = np.array([1, 0, 0], dtype=float)\n",
    "    local_end_of_y_unit_vector = np.array([0, 1, 0], dtype=float)\n",
    "    local_end_of_z_unit_vector = np.array([0, 0, 1], dtype=float)\n",
    "\n",
    "    global_start_of_base_vectors = apply_homogeneous_transformation_matrix_to_vector(\n",
    "        pose, local_start_of_base_vectors\n",
    "    )\n",
    "    global_end_of_x_unit_vector = apply_homogeneous_transformation_matrix_to_vector(\n",
    "        pose, local_end_of_x_unit_vector\n",
    "    )\n",
    "    global_end_of_y_unit_vector = apply_homogeneous_transformation_matrix_to_vector(\n",
    "        pose, local_end_of_y_unit_vector\n",
    "    )\n",
    "    global_end_of_z_unit_vector = apply_homogeneous_transformation_matrix_to_vector(\n",
    "        pose, local_end_of_z_unit_vector\n",
    "    )\n",
    "\n",
    "    plot_vector(ax, global_start_of_base_vectors, global_end_of_x_unit_vector, 'red')\n",
    "    plot_vector(ax, global_start_of_base_vectors, global_end_of_y_unit_vector, 'green')\n",
    "    plot_vector(ax, global_start_of_base_vectors, global_end_of_z_unit_vector, 'blue')\n"
   ]
  },
  {
   "cell_type": "code",
   "execution_count": 4,
   "id": "d48412da-f265-464d-882e-f06907cf5ad3",
   "metadata": {},
   "outputs": [
    {
     "name": "stdout",
     "output_type": "stream",
     "text": [
      "[[ 0.8660254 -0.5        0.         3.       ]\n",
      " [ 0.5        0.8660254  0.         0.       ]\n",
      " [ 0.         0.         1.         0.       ]\n",
      " [ 0.         0.         0.         1.       ]]\n"
     ]
    }
   ],
   "source": [
    "bcs_T_root = np.array([\n",
    "    [0.5*3**0.5, -0.5, 0, 3],\n",
    "    [0.5, 0.5*3**0.5, 0, 0],\n",
    "    [0, 0, 1, 0],\n",
    "    [0, 0, 0, 1]\n",
    "], dtype=float)\n",
    "print(bcs_T_root)"
   ]
  },
  {
   "cell_type": "code",
   "execution_count": 5,
   "id": "72e75f4d-d9a8-460e-9afa-a3061f289460",
   "metadata": {},
   "outputs": [
    {
     "data": {
      "image/png": "[encoded data removed]",
      "text/plain": [
       "<Figure size 640x480 with 1 Axes>"
      ]
     },
     "metadata": {},
     "output_type": "display_data"
    }
   ],
   "source": [
    "fig, ax = get_plot()\n",
    "plot_coordinate_system(ax, bcs_T_root)"
   ]
  },
  {
   "cell_type": "code",
   "execution_count": 6,
   "id": "bdfebd9c-db78-4297-b05e-04d529427d76",
   "metadata": {},
   "outputs": [
    {
     "name": "stdout",
     "output_type": "stream",
     "text": [
      "[[ 0.         -1.          0.          4.73205081]\n",
      " [ 1.          0.          0.          1.        ]\n",
      " [ 0.          0.          1.          0.        ]\n",
      " [ 0.          0.          0.          1.        ]]\n"
     ]
    }
   ],
   "source": [
    "bcs_T_target = np.array([\n",
    "    [0, -1, 0, 3+3**0.5],\n",
    "    [1, 0, 0, 1],\n",
    "    [0, 0, 1, 0],\n",
    "    [0, 0, 0, 1]\n",
    "], dtype=float)\n",
    "print(bcs_T_target)"
   ]
  },
  {
   "cell_type": "code",
   "execution_count": 7,
   "id": "c306e6ce-0513-4172-b1bd-15f408f87328",
   "metadata": {},
   "outputs": [
    {
     "data": {
      "image/png": "[encoded data removed]",
      "text/plain": [
       "<Figure size 640x480 with 1 Axes>"
      ]
     },
     "metadata": {},
     "output_type": "display_data"
    }
   ],
   "source": [
    "fig, ax = get_plot()\n",
    "plot_coordinate_system(ax, bcs_T_root)\n",
    "plot_coordinate_system(ax, bcs_T_target)"
   ]
  },
  {
   "cell_type": "code",
   "execution_count": 8,
   "id": "0cebb264-abf4-4b7c-b3f8-564a4ca489d5",
   "metadata": {},
   "outputs": [
    {
     "name": "stdout",
     "output_type": "stream",
     "text": [
      "[[ 5.00000000e-01 -8.66025404e-01  0.00000000e+00  2.00000000e+00]\n",
      " [ 8.66025404e-01  5.00000000e-01  0.00000000e+00  2.22044605e-16]\n",
      " [ 0.00000000e+00  0.00000000e+00  1.00000000e+00  0.00000000e+00]\n",
      " [ 0.00000000e+00  0.00000000e+00  0.00000000e+00  1.00000000e+00]]\n"
     ]
    }
   ],
   "source": [
    "root_T_target = invert_homogeneous_transformation_matrix(bcs_T_root) @ bcs_T_target\n",
    "print(root_T_target)"
   ]
  },
  {
   "cell_type": "code",
   "execution_count": 9,
   "id": "6dbab066-4b16-4f69-bac2-b6dd9eca8413",
   "metadata": {},
   "outputs": [
    {
     "name": "stdout",
     "output_type": "stream",
     "text": [
      "[[ 0.5         0.8660254   0.         -1.        ]\n",
      " [-0.8660254   0.5         0.          1.73205081]\n",
      " [ 0.          0.          1.          0.        ]\n",
      " [ 0.          0.          0.          1.        ]]\n"
     ]
    }
   ],
   "source": [
    "target_T_root = invert_homogeneous_transformation_matrix(root_T_target)\n",
    "print(target_T_root)"
   ]
  },
  {
   "cell_type": "code",
   "execution_count": 10,
   "id": "68344ea0-3557-4e66-8039-f1a9676b58d8",
   "metadata": {},
   "outputs": [
    {
     "data": {
      "text/plain": [
       "array([[ 0.8660254 ,  0.5       ,  0.        , -2.59807621],\n",
       "       [-0.5       ,  0.8660254 ,  0.        ,  1.5       ],\n",
       "       [ 0.        ,  0.        ,  1.        ,  0.        ],\n",
       "       [ 0.        ,  0.        ,  0.        ,  1.        ]])"
      ]
     },
     "execution_count": 10,
     "metadata": {},
     "output_type": "execute_result"
    }
   ],
   "source": [
    " invert_homogeneous_transformation_matrix(bcs_T_root)"
   ]
  },
  {
   "cell_type": "code",
   "execution_count": 11,
   "id": "3a41b0b4-0638-4124-9178-b4ed23c0387c",
   "metadata": {},
   "outputs": [
    {
     "name": "stdout",
     "output_type": "stream",
     "text": [
      "[[ 0.5       -0.8660254  0.         0.       ]\n",
      " [ 0.8660254  0.5        0.         0.       ]\n",
      " [ 0.         0.         1.         0.       ]\n",
      " [ 0.         0.         0.         1.       ]]\n"
     ]
    }
   ],
   "source": [
    "T = np.array([\n",
    "    [np.cos(60/180*np.pi), -np.sin(60/180*np.pi), 0, 0],\n",
    "    [np.sin(60/180*np.pi), np.cos(60/180*np.pi), 0, 0],\n",
    "    [0, 0, 1, 0],\n",
    "    [0, 0, 0, 1]\n",
    "], dtype=float)\n",
    "print(T)"
   ]
  },
  {
   "cell_type": "code",
   "execution_count": 12,
   "id": "abd570a2-b477-483f-80ee-47764459ae36",
   "metadata": {},
   "outputs": [
    {
     "name": "stdout",
     "output_type": "stream",
     "text": [
      "[[ 1.11022302e-16 -1.00000000e+00  0.00000000e+00  1.50000000e+00]\n",
      " [ 1.00000000e+00  9.61481343e-17  0.00000000e+00  2.59807621e+00]\n",
      " [ 0.00000000e+00  0.00000000e+00  1.00000000e+00  0.00000000e+00]\n",
      " [ 0.00000000e+00  0.00000000e+00  0.00000000e+00  1.00000000e+00]]\n"
     ]
    }
   ],
   "source": [
    "bcs_T_trans_l = T @ bcs_T_root\n",
    "print(bcs_T_trans_l)"
   ]
  },
  {
   "cell_type": "code",
   "execution_count": 13,
   "id": "405035b6-67d8-41b4-b261-8a1daa5ee1ce",
   "metadata": {},
   "outputs": [
    {
     "data": {
      "image/png": "[encoded data removed]",
      "text/plain": [
       "<Figure size 640x480 with 1 Axes>"
      ]
     },
     "metadata": {},
     "output_type": "display_data"
    }
   ],
   "source": [
    "fig, ax = get_plot()\n",
    "plot_coordinate_system(ax, bcs_T_root)\n",
    "plot_coordinate_system(ax, bcs_T_trans_l)"
   ]
  },
  {
   "cell_type": "code",
   "execution_count": 14,
   "id": "e4cef739-8a87-4435-b808-7b3c10aa06d0",
   "metadata": {},
   "outputs": [
    {
     "name": "stdout",
     "output_type": "stream",
     "text": [
      "[[ 1.11022302e-16 -1.00000000e+00  0.00000000e+00  3.00000000e+00]\n",
      " [ 1.00000000e+00  9.61481343e-17  0.00000000e+00  0.00000000e+00]\n",
      " [ 0.00000000e+00  0.00000000e+00  1.00000000e+00  0.00000000e+00]\n",
      " [ 0.00000000e+00  0.00000000e+00  0.00000000e+00  1.00000000e+00]]\n"
     ]
    }
   ],
   "source": [
    "bcs_T_trans_r = bcs_T_root @ T\n",
    "print(bcs_T_trans_r)"
   ]
  },
  {
   "cell_type": "code",
   "execution_count": 15,
   "id": "8927de2b-35d9-4790-b121-47ef49320dea",
   "metadata": {},
   "outputs": [
    {
     "data": {
      "image/png": "[encoded data removed]",
      "text/plain": [
       "<Figure size 640x480 with 1 Axes>"
      ]
     },
     "metadata": {},
     "output_type": "display_data"
    }
   ],
   "source": [
    "fig, ax = get_plot()\n",
    "plot_coordinate_system(ax, bcs_T_root)\n",
    "plot_coordinate_system(ax, bcs_T_trans_r)"
   ]
  },
  {
   "cell_type": "code",
   "execution_count": null,
   "id": "fb2f6459-fb3a-442f-9e9c-e93e7e364f7e",
   "metadata": {},
   "outputs": [],
   "source": []
  }
 ],
 "metadata": {
  "kernelspec": {
   "display_name": "Python 3 (ipykernel)",
   "language": "python",
   "name": "python3"
  },
  "language_info": {
   "codemirror_mode": {
    "name": "ipython",
    "version": 3
   },
   "file_extension": ".py",
   "mimetype": "text/x-python",
   "name": "python",
   "nbconvert_exporter": "python",
   "pygments_lexer": "ipython3",
   "version": "3.10.12"
  }
 },
 "nbformat": 4,
 "nbformat_minor": 5
}
